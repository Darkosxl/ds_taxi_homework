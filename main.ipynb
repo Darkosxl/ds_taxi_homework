{
 "cells": [
  {
   "cell_type": "markdown",
   "metadata": {},
   "source": [
    "# Data Science Taxi Homework"
   ]
  },
  {
   "cell_type": "markdown",
   "metadata": {},
   "source": [
    "## Introduction\n",
    "- The purpose of the assignment\n",
    "- Introduction to data and methods of data collection\n",
    "- Page 25"
   ]
  },
  {
   "cell_type": "markdown",
   "metadata": {},
   "source": [
    "## Melting\n",
    "- Pages 13-15\n",
    "- https://stackoverflow.com/questions/68961796/how-do-i-melt-a-pandas-dataframe\n",
    "- Pickup dates"
   ]
  },
  {
   "cell_type": "markdown",
   "metadata": {},
   "source": [
    "## Splitting\n",
    "- Pages 16-19\n",
    "- For example can have 3 tables for dates, location, and other\n",
    "- Make sure each ride has the same ID"
   ]
  },
  {
   "cell_type": "markdown",
   "metadata": {},
   "source": [
    "## Missing Data and Imputation\n",
    "- Pages 28-42"
   ]
  },
  {
   "cell_type": "markdown",
   "metadata": {},
   "source": [
    "## Outlier Detection\n",
    "- Pages 52-56"
   ]
  },
  {
   "cell_type": "markdown",
   "metadata": {},
   "source": [
    "## Correlation Analysis\n",
    "- Page 49"
   ]
  },
  {
   "cell_type": "markdown",
   "metadata": {},
   "source": [
    "## Temporal Patterns\n",
    "- Plot the distribution of rides over hours, days, and weeks using histograms or line plots. Look for any unusual patterns or spikes that might indicate data quality issues or anomalies."
   ]
  },
  {
   "cell_type": "markdown",
   "metadata": {},
   "source": [
    "## Categorical Variables\n",
    "- Examine the distribution of categorical variables like vendor_id, pickup_BoroCode, and dropoff_BoroCode using bar plots. Look for any unexpected or unusual categories."
   ]
  },
  {
   "cell_type": "markdown",
   "metadata": {},
   "source": [
    "## Suggested Extras\n",
    "- Time Series Analysis: Conduct time series analysis on the length_time (duration of the ride) variable to identify trends, seasonality, and anomalies over time. This can involve techniques such as decomposition, autocorrelation analysis, and forecasting.\n",
    "\n",
    "- Spatial Clustering: Apply spatial clustering algorithms like K-means or DBSCAN to group pickup and dropoff locations into clusters based on their geographical proximity. This can help identify popular pickup/dropoff zones and potential outliers.\n",
    "\n",
    "- Network Analysis: Construct a network graph representing taxi routes between pickup and dropoff locations. Analyze the network structure to identify important nodes (locations) and potential inefficiencies in the transportation network.\n"
   ]
  },
  {
   "cell_type": "markdown",
   "metadata": {},
   "source": []
  },
  {
   "cell_type": "markdown",
   "metadata": {},
   "source": [
    "## HELLO! TEST"
   ]
  },
  {
   "cell_type": "markdown",
   "metadata": {},
   "source": []
  }
 ],
 "metadata": {
  "language_info": {
   "name": "python"
  }
 },
 "nbformat": 4,
 "nbformat_minor": 2
}
